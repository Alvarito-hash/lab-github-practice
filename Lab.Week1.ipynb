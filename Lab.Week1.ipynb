{
 "cells": [
  {
   "cell_type": "code",
   "execution_count": 14,
   "id": "7037fc88-ee82-4112-b23a-4e64cdc00597",
   "metadata": {},
   "outputs": [],
   "source": [
    "my_tuple = (\"I\")"
   ]
  },
  {
   "cell_type": "code",
   "execution_count": 15,
   "id": "8650fa07-2982-4ee1-9579-5904b5d15aa8",
   "metadata": {},
   "outputs": [
    {
     "data": {
      "text/plain": [
       "str"
      ]
     },
     "execution_count": 15,
     "metadata": {},
     "output_type": "execute_result"
    }
   ],
   "source": [
    "type(my_tuple)"
   ]
  },
  {
   "cell_type": "code",
   "execution_count": 24,
   "id": "67ba699d-d6d0-4df9-9ad7-fd6a2031c2fb",
   "metadata": {},
   "outputs": [],
   "source": [
    "my_tuple = (\"I\",\"r\",\"o\",\"n\",\"h\",\"a\",\"c\",\"k\")"
   ]
  },
  {
   "cell_type": "code",
   "execution_count": 25,
   "id": "cf5194a8-19a1-4f1f-8ec3-29950096d77e",
   "metadata": {},
   "outputs": [
    {
     "name": "stdout",
     "output_type": "stream",
     "text": [
      "('I', 'r', 'o', 'n')\n",
      "('h', 'a', 'c', 'k')\n"
     ]
    }
   ],
   "source": [
    "tup1 = my_tuple[:4]\n",
    "tup2 = my_tuple[4:]\n",
    "print (tup1)\n",
    "print (tup2)"
   ]
  },
  {
   "cell_type": "code",
   "execution_count": 27,
   "id": "748a8a62-3402-46c0-b305-9fd3b99fa6e5",
   "metadata": {},
   "outputs": [
    {
     "name": "stdout",
     "output_type": "stream",
     "text": [
      "('I', 'r', 'o', 'n', 'h', 'a', 'c', 'k')\n",
      "tup3 es igual a my_tuple?: True\n"
     ]
    }
   ],
   "source": [
    "tup3 = tup1 + tup2 \n",
    "print(tup3)\n",
    "print(\"tup3 es igual a my_tuple?:\", tup3 == my_tuple)"
   ]
  },
  {
   "cell_type": "code",
   "execution_count": 28,
   "id": "5679caca-9546-40cf-8c99-47314d610787",
   "metadata": {},
   "outputs": [
    {
     "name": "stdout",
     "output_type": "stream",
     "text": [
      "Elementos en tup1: 4\n",
      "Elementos en tup2: 4\n",
      "Suma de ambos: 8\n",
      "Elementos en tup3: 8\n",
      "¿La suma es igual al número de elementos en tup3?: True\n"
     ]
    }
   ],
   "source": [
    "count1 = len(tup1)\n",
    "count2 = len(tup2)\n",
    "\n",
    "total = count1 + count2 \n",
    "\n",
    "print(\"Elementos en tup1:\", count1)\n",
    "print(\"Elementos en tup2:\", count2)\n",
    "print(\"Suma de ambos:\", total)\n",
    "print(\"Elementos en tup3:\", len(tup3))\n",
    "print(\"¿La suma es igual al número de elementos en tup3?:\", total == len(tup3))"
   ]
  },
  {
   "cell_type": "code",
   "execution_count": 32,
   "id": "95695aaa-82bc-4971-95c2-1c74f10dfdbd",
   "metadata": {},
   "outputs": [
    {
     "name": "stdout",
     "output_type": "stream",
     "text": [
      "El indice de h en tup3 es: 4\n"
     ]
    }
   ],
   "source": [
    "index_h = tup3.index(\"h\")\n",
    "print(\"El indice de h en tup3 es:\", index_h)"
   ]
  },
  {
   "cell_type": "code",
   "execution_count": 33,
   "id": "3d1f4f2a-3ce6-4e98-b0cd-140bb4527f09",
   "metadata": {},
   "outputs": [
    {
     "name": "stdout",
     "output_type": "stream",
     "text": [
      "True\n",
      "False\n",
      "True\n",
      "False\n",
      "False\n"
     ]
    }
   ],
   "source": [
    "tup3 = (\"I\", \"r\", \"o\", \"n\", \"h\", \"a\", \"c\", \"k\")\n",
    "letters = [\"a\", \"b\", \"c\", \"d\", \"e\"]\n",
    "\n",
    "for letter in letters:\n",
    "    print(letter in tup3)\n"
   ]
  },
  {
   "cell_type": "code",
   "execution_count": 34,
   "id": "e09df221-2057-4d9d-a479-f9ae967e66b2",
   "metadata": {},
   "outputs": [
    {
     "name": "stdout",
     "output_type": "stream",
     "text": [
      "'a' aparece 1 vez/veces en tup3\n",
      "'b' aparece 0 vez/veces en tup3\n",
      "'c' aparece 1 vez/veces en tup3\n",
      "'d' aparece 0 vez/veces en tup3\n",
      "'e' aparece 0 vez/veces en tup3\n"
     ]
    }
   ],
   "source": [
    "tup3 = (\"I\", \"r\", \"o\", \"n\", \"h\", \"a\", \"c\", \"k\")\n",
    "letters = [\"a\", \"b\", \"c\", \"d\", \"e\"]\n",
    "\n",
    "for letter in letters:\n",
    "    count = tup3.count(letter)\n",
    "    print(f\"'{letter}' aparece {count} vez/veces en tup3\")\n"
   ]
  },
  {
   "cell_type": "code",
   "execution_count": 35,
   "id": "dc67f1ff-2eb1-45c2-bc85-2f863357021c",
   "metadata": {},
   "outputs": [],
   "source": [
    "#Challenge 2: Sets \n",
    "import random"
   ]
  },
  {
   "cell_type": "code",
   "execution_count": 36,
   "id": "d134e5f5-bf4b-4dc6-ba67-a441307c2eae",
   "metadata": {},
   "outputs": [
    {
     "name": "stdout",
     "output_type": "stream",
     "text": [
      "[26, 55, 74, 22, 58, 2, 39, 11, 52, 80, 56, 9, 23, 6, 85, 28, 59, 8, 20, 95, 92, 70, 10, 77, 50, 27, 89, 46, 36, 90, 96, 78, 18, 40, 32, 94, 76, 33, 1, 88, 24, 4, 83, 21, 48, 25, 62, 69, 75, 5, 19, 16, 63, 57, 100, 71, 15, 31, 47, 12, 93, 91, 54, 67, 86, 42, 51, 97, 44, 35, 0, 34, 53, 38, 65, 99, 61, 29, 30, 41]\n"
     ]
    }
   ],
   "source": [
    "sample_list_1 = random.sample(range(0,101),80)\n",
    "print(sample_list_1)"
   ]
  },
  {
   "cell_type": "code",
   "execution_count": 37,
   "id": "72c796ba-6e8e-424c-87b5-43ccd8619517",
   "metadata": {},
   "outputs": [
    {
     "name": "stdout",
     "output_type": "stream",
     "text": [
      "Longitud de set1: 80\n"
     ]
    }
   ],
   "source": [
    "set1 = set(sample_list_1)\n",
    "print(\"Longitud de set1:\", len(set1))"
   ]
  },
  {
   "cell_type": "code",
   "execution_count": 38,
   "id": "a3c2e4b2-d2e2-4654-9c36-b22110ded226",
   "metadata": {},
   "outputs": [
    {
     "name": "stdout",
     "output_type": "stream",
     "text": [
      "[28, 71, 66, 30, 77, 61, 90, 8, 86, 96, 18, 67, 58, 39, 91, 89, 27, 82, 2, 39, 14, 91, 53, 56, 90, 71, 19, 98, 87, 84, 42, 58, 66, 54, 92, 5, 3, 47, 61, 91, 61, 52, 92, 57, 39, 93, 31, 51, 2, 60, 23, 8, 19, 82, 75, 92, 6, 81, 35, 67, 91, 71, 95, 68, 10, 3, 95, 0, 34, 75, 25, 95, 42, 7, 61, 1, 45, 35, 4, 61]\n"
     ]
    }
   ],
   "source": [
    "import random\n",
    "\n",
    "sample_list_2 = []\n",
    "\n",
    "for _ in range(80):\n",
    "    sample_list_2.append(random.randint(0, 100))\n",
    "\n",
    "print(sample_list_2)\n"
   ]
  },
  {
   "cell_type": "code",
   "execution_count": 39,
   "id": "c109c5df-d152-4b12-8ab4-eca256a349d7",
   "metadata": {},
   "outputs": [
    {
     "name": "stdout",
     "output_type": "stream",
     "text": [
      "Longitud de set2: 53\n"
     ]
    }
   ],
   "source": [
    "set2 = set(sample_list_2)\n",
    "\n",
    "print(\"Longitud de set2:\", len(set2))\n"
   ]
  },
  {
   "cell_type": "code",
   "execution_count": 40,
   "id": "d2e354e4-2065-4889-8d7d-6c5e5c06b3d0",
   "metadata": {},
   "outputs": [
    {
     "name": "stdout",
     "output_type": "stream",
     "text": [
      "Elementos en set1 pero no en set2: {9, 11, 12, 15, 16, 20, 21, 22, 24, 26, 29, 32, 33, 36, 38, 40, 41, 44, 46, 48, 50, 55, 59, 62, 63, 65, 69, 70, 74, 76, 78, 80, 83, 85, 88, 94, 97, 99, 100}\n"
     ]
    }
   ],
   "source": [
    "set3 = set1 - set2\n",
    "print(\"Elementos en set1 pero no en set2:\", set3)"
   ]
  },
  {
   "cell_type": "code",
   "execution_count": 41,
   "id": "7d06a3b5-57f3-4159-a7e9-bfcc35029494",
   "metadata": {},
   "outputs": [
    {
     "name": "stdout",
     "output_type": "stream",
     "text": [
      "Elementos en set2 pero no en set1: {66, 3, 68, 98, 7, 45, 14, 81, 82, 84, 87, 60}\n"
     ]
    }
   ],
   "source": [
    "set4 = set2 - set1\n",
    "print(\"Elementos en set2 pero no en set1:\", set4)"
   ]
  },
  {
   "cell_type": "code",
   "execution_count": 42,
   "id": "267557c2-a714-4e71-aa95-f0eed617f522",
   "metadata": {},
   "outputs": [
    {
     "name": "stdout",
     "output_type": "stream",
     "text": [
      "Elementos compartidos entre set1 y set2: {0, 1, 2, 4, 5, 6, 8, 10, 18, 19, 23, 25, 27, 28, 30, 31, 34, 35, 39, 42, 47, 51, 52, 53, 54, 56, 57, 58, 61, 67, 71, 75, 77, 86, 89, 90, 91, 92, 93, 95, 96}\n"
     ]
    }
   ],
   "source": [
    "set5 = set1 & set2\n",
    "print(\"Elementos compartidos entre set1 y set2:\", set5)\n"
   ]
  },
  {
   "cell_type": "code",
   "execution_count": 43,
   "id": "0bbaf0f6-0910-48c0-8e0c-a9d7f293e804",
   "metadata": {},
   "outputs": [
    {
     "name": "stdout",
     "output_type": "stream",
     "text": [
      "len(set1): 80\n",
      "len(set2): 53\n",
      "len(set3): 39\n",
      "len(set4): 12\n",
      "len(set5): 41\n",
      "¿Se cumple la relación? True\n"
     ]
    }
   ],
   "source": [
    "print(\"len(set1):\", len(set1))\n",
    "print(\"len(set2):\", len(set2))\n",
    "print(\"len(set3):\", len(set3))\n",
    "print(\"len(set4):\", len(set4))\n",
    "print(\"len(set5):\", len(set5))\n",
    "\n",
    "left_side = len(set1) + len(set2)\n",
    "right_side = len(set3) + len(set4) + 2 * len(set5)\n",
    "print(\"¿Se cumple la relación?\", left_side == right_side)"
   ]
  },
  {
   "cell_type": "code",
   "execution_count": 44,
   "id": "6fea7444-92d4-471b-8a27-afa6414c2c2f",
   "metadata": {},
   "outputs": [
    {
     "name": "stdout",
     "output_type": "stream",
     "text": [
      "set6: set()\n",
      "Tipo de set6: <class 'set'>\n"
     ]
    }
   ],
   "source": [
    "set6 = set()\n",
    "print(\"set6:\", set6)\n",
    "print(\"Tipo de set6:\", type(set6))"
   ]
  },
  {
   "cell_type": "code",
   "execution_count": 45,
   "id": "cd73ba96-f16d-4962-adff-7e93f8ce3ce4",
   "metadata": {},
   "outputs": [
    {
     "name": "stdout",
     "output_type": "stream",
     "text": [
      "set6 después de actualizar: {0, 1, 2, 4, 5, 6, 8, 9, 10, 11, 12, 15, 16, 18, 19, 20, 21, 22, 23, 24, 25, 26, 27, 28, 29, 30, 31, 32, 33, 34, 35, 36, 38, 39, 40, 41, 42, 44, 46, 47, 48, 50, 51, 52, 53, 54, 55, 56, 57, 58, 59, 61, 62, 63, 65, 67, 69, 70, 71, 74, 75, 76, 77, 78, 80, 83, 85, 86, 88, 89, 90, 91, 92, 93, 94, 95, 96, 97, 99, 100}\n"
     ]
    }
   ],
   "source": [
    "set6.update(set3)\n",
    "set6.update(set5)\n",
    "print(\"set6 después de actualizar:\", set6)"
   ]
  },
  {
   "cell_type": "code",
   "execution_count": 46,
   "id": "1451d29e-8e34-4819-8f5e-411fecc122d0",
   "metadata": {},
   "outputs": [
    {
     "name": "stdout",
     "output_type": "stream",
     "text": [
      "¿set1 y set6 son iguales?: True\n"
     ]
    }
   ],
   "source": [
    "are_equal = set1 == set6\n",
    "print(\"¿set1 y set6 son iguales?:\", are_equal)"
   ]
  },
  {
   "cell_type": "code",
   "execution_count": 47,
   "id": "61d8b7fd-1fc9-4cac-98f4-74716fe44492",
   "metadata": {},
   "outputs": [
    {
     "name": "stdout",
     "output_type": "stream",
     "text": [
      "¿set1 contiene set2?: False\n",
      "¿set1 contiene set3?: True\n"
     ]
    }
   ],
   "source": [
    "contains_set2 = set2.issubset(set1)\n",
    "print(\"¿set1 contiene set2?:\", contains_set2)\n",
    "contains_set3 = set3.issubset(set1)\n",
    "print(\"¿set1 contiene set3?:\", contains_set3)"
   ]
  },
  {
   "cell_type": "code",
   "execution_count": 48,
   "id": "b1a2d948-3a88-4e70-a112-15db0927efe3",
   "metadata": {},
   "outputs": [
    {
     "name": "stdout",
     "output_type": "stream",
     "text": [
      "agg1: {0, 1, 2, 3, 4, 5, 6, 7, 8, 9, 10, 11, 12, 14, 15, 16, 18, 19, 20, 21, 22, 23, 24, 25, 26, 27, 28, 29, 30, 31, 32, 33, 34, 35, 36, 38, 39, 40, 41, 42, 44, 45, 46, 47, 48, 50, 51, 52, 53, 54, 55, 56, 57, 58, 59, 60, 61, 62, 63, 65, 66, 67, 68, 69, 70, 71, 74, 75, 76, 77, 78, 80, 81, 82, 83, 84, 85, 86, 87, 88, 89, 90, 91, 92, 93, 94, 95, 96, 97, 98, 99, 100}\n",
      "agg2: {0, 1, 2, 3, 4, 5, 6, 7, 8, 9, 10, 11, 12, 14, 15, 16, 18, 19, 20, 21, 22, 23, 24, 25, 26, 27, 28, 29, 30, 31, 32, 33, 34, 35, 36, 38, 39, 40, 41, 42, 44, 45, 46, 47, 48, 50, 51, 52, 53, 54, 55, 56, 57, 58, 59, 60, 61, 62, 63, 65, 66, 67, 68, 69, 70, 71, 74, 75, 76, 77, 78, 80, 81, 82, 83, 84, 85, 86, 87, 88, 89, 90, 91, 92, 93, 94, 95, 96, 97, 98, 99, 100}\n",
      "¿Las agregaciones son iguales?: True\n"
     ]
    }
   ],
   "source": [
    "agg1 = set3.union(set4, set5)\n",
    "agg2 = set1.union(set2)\n",
    "print(\"agg1:\", agg1)\n",
    "print(\"agg2:\", agg2)\n",
    "are_equal = agg1 == agg2\n",
    "print(\"¿Las agregaciones son iguales?:\", are_equal)"
   ]
  },
  {
   "cell_type": "code",
   "execution_count": 49,
   "id": "c50288b1-297f-40d2-bcf8-6c3efa92fda8",
   "metadata": {},
   "outputs": [
    {
     "name": "stdout",
     "output_type": "stream",
     "text": [
      "Elemento eliminado: 0\n",
      "set1 después de pop(): {1, 2, 4, 5, 6, 8, 9, 10, 11, 12, 15, 16, 18, 19, 20, 21, 22, 23, 24, 25, 26, 27, 28, 29, 30, 31, 32, 33, 34, 35, 36, 38, 39, 40, 41, 42, 44, 46, 47, 48, 50, 51, 52, 53, 54, 55, 56, 57, 58, 59, 61, 62, 63, 65, 67, 69, 70, 71, 74, 75, 76, 77, 78, 80, 83, 85, 86, 88, 89, 90, 91, 92, 93, 94, 95, 96, 97, 99, 100}\n"
     ]
    }
   ],
   "source": [
    "removed_element = set1.pop()\n",
    "print(\"Elemento eliminado:\", removed_element)\n",
    "print(\"set1 después de pop():\", set1)"
   ]
  },
  {
   "cell_type": "code",
   "execution_count": 50,
   "id": "afca41a9-b1e0-4eef-88f2-c91533d677aa",
   "metadata": {},
   "outputs": [
    {
     "name": "stdout",
     "output_type": "stream",
     "text": [
      "Elementos restantes en set1: {2, 4, 5, 6, 8, 10, 12, 15, 16, 18, 20, 22, 23, 24, 25, 26, 27, 28, 30, 32, 33, 34, 35, 36, 38, 40, 42, 44, 46, 47, 48, 50, 52, 53, 54, 55, 56, 57, 58, 62, 63, 65, 67, 70, 74, 75, 76, 77, 78, 80, 83, 85, 86, 88, 90, 92, 93, 94, 95, 96, 97, 100}\n"
     ]
    }
   ],
   "source": [
    "list_to_remove = [1, 9, 11, 19, 21, 29, 31, 39, 41, 49, 51, 59, 61, 69, 71, 79, 81, 89, 91, 99]\n",
    "for item in list_to_remove:\n",
    "    set1.discard(item)\n",
    "print(\"Elementos restantes en set1:\", set1)\n",
    "    "
   ]
  },
  {
   "cell_type": "code",
   "execution_count": 1,
   "id": "ce9556be-770f-4485-954a-bd95b17c5bbc",
   "metadata": {},
   "outputs": [],
   "source": [
    "#Challenge: Dictionaries\n",
    "word_freq = {'love': 25, 'conversation': 1, 'every': 6, \"we're\": 1, 'plate': 1, 'sour': 1, 'jukebox': 1, 'now': 11, 'taxi': 1, 'fast': 1, 'bag': 1, 'man': 1, 'push': 3, 'baby': 14, 'going': 1, 'you': 16, \"don't\": 2, 'one': 1, 'mind': 2, 'backseat': 1, 'friends': 1, 'then': 3, 'know': 2, 'take': 1, 'play': 1, 'okay': 1, 'so': 2, 'begin': 1, 'start': 2, 'over': 1, 'body': 17, 'boy': 2, 'just': 1, 'we': 7, 'are': 1, 'girl': 2, 'tell': 1, 'singing': 2, 'drinking': 1, 'put': 3, 'our': 1, 'where': 1, \"i'll\": 1, 'all': 1, \"isn't\": 1, 'make': 1, 'lover': 1, 'get': 1, 'radio': 1, 'give': 1, \"i'm\": 23, 'like': 10, 'can': 1, 'doing': 2, 'with': 22, 'club': 1, 'come': 37, 'it': 1, 'somebody': 2, 'handmade': 2, 'out': 1, 'new': 6, 'room': 3, 'chance': 1, 'follow': 6, 'in': 27, 'may': 2, 'brand': 6, 'that': 2, 'magnet': 3, 'up': 3, 'first': 1, 'and': 23, 'pull': 3, 'of': 6, 'table': 1, 'much': 2, 'last': 3, 'i': 6, 'thrifty': 1, 'grab': 2, 'was': 2, 'driver': 1, 'slow': 1, 'dance': 1, 'the': 18, 'say': 2, 'trust': 1, 'family': 1, 'week': 1, 'date': 1, 'me': 10, 'do': 3, 'waist': 2, 'smell': 3, 'day': 6, 'although': 3, 'your': 21, 'leave': 1, 'want': 2, \"let's\": 2, 'lead': 6, 'at': 1, 'hand': 1, 'how': 1, 'talk': 4, 'not': 2, 'eat': 1, 'falling': 3, 'about': 1, 'story': 1, 'sweet': 1, 'best': 1, 'crazy': 2, 'let': 1, 'too': 5, 'van': 1, 'shots': 1, 'go': 2, 'to': 2, 'a': 8, 'my': 33, 'is': 5, 'place': 1, 'find': 1, 'shape': 6, 'on': 40, 'kiss': 1, 'were': 3, 'night': 3, 'heart': 3, 'for': 3, 'discovering': 6, 'something': 6, 'be': 16, 'bedsheets': 3, 'fill': 2, 'hours': 2, 'stop': 1, 'bar': 1}"
   ]
  },
  {
   "cell_type": "code",
   "execution_count": 2,
   "id": "53e23258-fbdf-4cac-8422-3c4087208476",
   "metadata": {},
   "outputs": [
    {
     "name": "stdout",
     "output_type": "stream",
     "text": [
      "{'a': 8, 'about': 1, 'all': 1, 'although': 3, 'and': 23, 'are': 1, 'at': 1, 'baby': 14, 'backseat': 1, 'bag': 1, 'bar': 1, 'be': 16, 'bedsheets': 3, 'begin': 1, 'best': 1, 'body': 17, 'boy': 2, 'brand': 6, 'can': 1, 'chance': 1, 'club': 1, 'come': 37, 'conversation': 1, 'crazy': 2, 'dance': 1, 'date': 1, 'day': 6, 'discovering': 6, 'do': 3, 'doing': 2, \"don't\": 2, 'drinking': 1, 'driver': 1, 'eat': 1, 'every': 6, 'falling': 3, 'family': 1, 'fast': 1, 'fill': 2, 'find': 1, 'first': 1, 'follow': 6, 'for': 3, 'friends': 1, 'get': 1, 'girl': 2, 'give': 1, 'go': 2, 'going': 1, 'grab': 2, 'hand': 1, 'handmade': 2, 'heart': 3, 'hours': 2, 'how': 1, 'i': 6, \"i'll\": 1, \"i'm\": 23, 'in': 27, 'is': 5, \"isn't\": 1, 'it': 1, 'jukebox': 1, 'just': 1, 'kiss': 1, 'know': 2, 'last': 3, 'lead': 6, 'leave': 1, 'let': 1, \"let's\": 2, 'like': 10, 'love': 25, 'lover': 1, 'magnet': 3, 'make': 1, 'man': 1, 'may': 2, 'me': 10, 'mind': 2, 'much': 2, 'my': 33, 'new': 6, 'night': 3, 'not': 2, 'now': 11, 'of': 6, 'okay': 1, 'on': 40, 'one': 1, 'our': 1, 'out': 1, 'over': 1, 'place': 1, 'plate': 1, 'play': 1, 'pull': 3, 'push': 3, 'put': 3, 'radio': 1, 'room': 3, 'say': 2, 'shape': 6, 'shots': 1, 'singing': 2, 'slow': 1, 'smell': 3, 'so': 2, 'somebody': 2, 'something': 6, 'sour': 1, 'start': 2, 'stop': 1, 'story': 1, 'sweet': 1, 'table': 1, 'take': 1, 'talk': 4, 'taxi': 1, 'tell': 1, 'that': 2, 'the': 18, 'then': 3, 'thrifty': 1, 'to': 2, 'too': 5, 'trust': 1, 'up': 3, 'van': 1, 'waist': 2, 'want': 2, 'was': 2, 'we': 7, \"we're\": 1, 'week': 1, 'were': 3, 'where': 1, 'with': 22, 'you': 16, 'your': 21}\n"
     ]
    }
   ],
   "source": [
    "keys = list(word_freq.keys())\n",
    "keys.sort()\n",
    "word_freq2 = {}\n",
    "for key in keys:\n",
    "    word_freq2[key] = word_freq[key]\n",
    "print(word_freq2)"
   ]
  },
  {
   "cell_type": "code",
   "execution_count": null,
   "id": "bacebf45-4028-447a-a092-4b18d34aa988",
   "metadata": {},
   "outputs": [],
   "source": [
    "import operator\n",
    "word_freq = {'love': 25, 'conversation': 1, 'every': 6, \"we're\": 1, 'plate': 1, 'sour': 1, 'jukebox': 1, 'now': 11, 'taxi': 1, 'fast': 1, 'bag': 1, 'man': 1, 'push': 3, 'baby': 14, 'going': 1, 'you': 16, \"don't\": 2, 'one': 1, 'mind': 2, 'backseat': 1, 'friends': 1, 'then': 3, 'know': 2, 'take': 1, 'play': 1, 'okay': 1, 'so': 2, 'begin': 1, 'start': 2, 'over': 1, 'body': 17, 'boy': 2, 'just': 1, 'we': 7, 'are': 1, 'girl': 2, 'tell': 1, 'singing': 2, 'drinking': 1, 'put': 3, 'our': 1, 'where': 1, \"i'll\": 1, 'all': 1, \"isn't\": 1, 'make': 1, 'lover': 1, 'get': 1, 'radio': 1, 'give': 1, \"i'm\": 23, 'like': 10, 'can': 1, 'doing': 2, 'with': 22, 'club': 1, 'come': 37, 'it': 1, 'somebody': 2, 'handmade': 2, 'out': 1, 'new': 6, 'room': 3, 'chance': 1, 'follow': 6, 'in': 27, 'may': 2, 'brand': 6, 'that': 2, 'magnet': 3, 'up': 3, 'first': 1, 'and': 23, 'pull': 3, 'of': 6, 'table': 1, 'much': 2, 'last': 3, 'i': 6, 'thrifty': 1, 'grab': 2, 'was': 2, 'driver': 1, 'slow': 1, 'dance': 1, 'the': 18, 'say': 2, 'trust': 1, 'family': 1, 'week': 1, 'date': 1, 'me': 10, 'do': 3, 'waist': 2, 'smell': 3, 'day': 6, 'although': 3, 'your': 21, 'leave': 1, 'want': 2, \"let's\": 2, 'lead': 6, 'at': 1, 'hand': 1, 'how': 1, 'talk': 4, 'not': 2, 'eat': 1, 'falling': 3, 'about': 1, 'story': 1, 'sweet': 1, 'best': 1, 'crazy': 2, 'let': 1, 'too': 5, 'van': 1, 'shots': 1, 'go': 2, 'to': 2, 'a': 8, 'my': 33, 'is': 5, 'place': 1, 'find': 1, 'shape': 6, 'on': 40, 'kiss': 1, 'were': 3, 'night': 3, 'heart': 3, 'for': 3, 'discovering': 6, 'something': 6, 'be': 16, 'bedsheets': 3, 'fill': 2, 'hours': 2, 'stop': 1, 'bar': 1}\n",
    "sorted_tups = sorted(word_freq.items(), key=operator.itemgetter(1))\n"
   ]
  }
 ],
 "metadata": {
  "kernelspec": {
   "display_name": "Python 3 (ipykernel)",
   "language": "python",
   "name": "python3"
  },
  "language_info": {
   "codemirror_mode": {
    "name": "ipython",
    "version": 3
   },
   "file_extension": ".py",
   "mimetype": "text/x-python",
   "name": "python",
   "nbconvert_exporter": "python",
   "pygments_lexer": "ipython3",
   "version": "3.13.5"
  }
 },
 "nbformat": 4,
 "nbformat_minor": 5
}
