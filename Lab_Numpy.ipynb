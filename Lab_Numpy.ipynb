{
 "cells": [
  {
   "cell_type": "code",
   "execution_count": 1,
   "id": "26232b72-88a8-4e82-aca7-33d05b9fdeee",
   "metadata": {},
   "outputs": [],
   "source": [
    "import numpy as np\n"
   ]
  },
  {
   "cell_type": "code",
   "execution_count": 2,
   "id": "7cb48f2e-cf61-4b4e-8bfd-b4c52472bba2",
   "metadata": {},
   "outputs": [
    {
     "name": "stdout",
     "output_type": "stream",
     "text": [
      "NumPy version: 2.1.3\n",
      "Build Dependencies:\n",
      "  blas:\n",
      "    detection method: pkgconfig\n",
      "    found: true\n",
      "    include directory: C:/Users/alvas/anaconda3/Library/include\n",
      "    lib directory: C:/Users/alvas/anaconda3/Library/lib\n",
      "    name: mkl-sdl\n",
      "    openblas configuration: unknown\n",
      "    pc file directory: C:\\b\\abs_25aj347ekn\\croot\\numpy_and_numpy_base_1730835595898\\_h_env\\Library\\lib\\pkgconfig\n",
      "    version: '2023.1'\n",
      "  lapack:\n",
      "    detection method: pkgconfig\n",
      "    found: true\n",
      "    include directory: C:/Users/alvas/anaconda3/Library/include\n",
      "    lib directory: C:/Users/alvas/anaconda3/Library/lib\n",
      "    name: mkl-sdl\n",
      "    openblas configuration: unknown\n",
      "    pc file directory: C:\\b\\abs_25aj347ekn\\croot\\numpy_and_numpy_base_1730835595898\\_h_env\\Library\\lib\\pkgconfig\n",
      "    version: '2023.1'\n",
      "Compilers:\n",
      "  c:\n",
      "    commands: cl.exe\n",
      "    linker: link\n",
      "    name: msvc\n",
      "    version: 19.29.30156\n",
      "  c++:\n",
      "    commands: cl.exe\n",
      "    linker: link\n",
      "    name: msvc\n",
      "    version: 19.29.30156\n",
      "  cython:\n",
      "    commands: cython\n",
      "    linker: cython\n",
      "    name: cython\n",
      "    version: 3.0.11\n",
      "Machine Information:\n",
      "  build:\n",
      "    cpu: x86_64\n",
      "    endian: little\n",
      "    family: x86_64\n",
      "    system: windows\n",
      "  host:\n",
      "    cpu: x86_64\n",
      "    endian: little\n",
      "    family: x86_64\n",
      "    system: windows\n",
      "Python Information:\n",
      "  path: C:\\b\\abs_25aj347ekn\\croot\\numpy_and_numpy_base_1730835595898\\_h_env\\python.exe\n",
      "  version: '3.13'\n",
      "SIMD Extensions:\n",
      "  baseline:\n",
      "  - SSE\n",
      "  - SSE2\n",
      "  - SSE3\n",
      "  found:\n",
      "  - SSSE3\n",
      "  - SSE41\n",
      "  - POPCNT\n",
      "  - SSE42\n",
      "  - AVX\n",
      "  - F16C\n",
      "  - FMA3\n",
      "  - AVX2\n",
      "  not found:\n",
      "  - AVX512F\n",
      "  - AVX512CD\n",
      "  - AVX512_SKX\n",
      "  - AVX512_CLX\n",
      "  - AVX512_CNL\n",
      "  - AVX512_ICL\n",
      "\n"
     ]
    }
   ],
   "source": [
    "print(\"NumPy version:\", np.__version__)\n",
    "\n",
    "np.show_config()"
   ]
  },
  {
   "cell_type": "code",
   "execution_count": 3,
   "id": "fceb0a0c-3dd8-4892-b398-d497dc3ac2d5",
   "metadata": {},
   "outputs": [],
   "source": [
    "a = np.random.random((2, 3, 5))"
   ]
  },
  {
   "cell_type": "code",
   "execution_count": 6,
   "id": "49923ff9-303e-48e2-aabe-b1b4f4dfbc2e",
   "metadata": {},
   "outputs": [
    {
     "name": "stdout",
     "output_type": "stream",
     "text": [
      "[[[0.05652156 0.72038546 0.54908194 0.7835943  0.30128941]\n",
      "  [0.9288521  0.77829971 0.30037226 0.57455895 0.45591454]\n",
      "  [0.24763384 0.92230717 0.83622236 0.83064687 0.34097221]]\n",
      "\n",
      " [[0.56261733 0.84694282 0.86305442 0.90414497 0.75006972]\n",
      "  [0.13504569 0.40345086 0.30487524 0.6616755  0.56885306]\n",
      "  [0.00778184 0.40087664 0.29053672 0.70303045 0.53025395]]]\n"
     ]
    }
   ],
   "source": [
    "print (a)"
   ]
  },
  {
   "cell_type": "code",
   "execution_count": 7,
   "id": "bcdcb766-8456-457b-9e50-d6726fbda124",
   "metadata": {},
   "outputs": [],
   "source": [
    "b = np.ones((5, 2, 3))"
   ]
  },
  {
   "cell_type": "code",
   "execution_count": 9,
   "id": "a0d2554b-a736-4a3c-8b38-e7f0514aeb70",
   "metadata": {},
   "outputs": [
    {
     "name": "stdout",
     "output_type": "stream",
     "text": [
      "[[[1. 1. 1.]\n",
      "  [1. 1. 1.]]\n",
      "\n",
      " [[1. 1. 1.]\n",
      "  [1. 1. 1.]]\n",
      "\n",
      " [[1. 1. 1.]\n",
      "  [1. 1. 1.]]\n",
      "\n",
      " [[1. 1. 1.]\n",
      "  [1. 1. 1.]]\n",
      "\n",
      " [[1. 1. 1.]\n",
      "  [1. 1. 1.]]]\n"
     ]
    }
   ],
   "source": [
    "print(b)"
   ]
  },
  {
   "cell_type": "code",
   "execution_count": 10,
   "id": "9577aded-786f-44cb-ae37-92707f078247",
   "metadata": {},
   "outputs": [
    {
     "name": "stdout",
     "output_type": "stream",
     "text": [
      "Size of a: 30\n",
      "Size of b: 30\n",
      "Do a and b have the same size? True\n"
     ]
    }
   ],
   "source": [
    "print(\"Size of a:\", a.size)\n",
    "print(\"Size of b:\", b.size)\n",
    "\n",
    "print(\"Do a and b have the same size?\", a.size == b.size)"
   ]
  },
  {
   "cell_type": "code",
   "execution_count": 11,
   "id": "58668c92-caaf-4b36-ab62-b51b78871964",
   "metadata": {},
   "outputs": [
    {
     "name": "stdout",
     "output_type": "stream",
     "text": [
      "Shape of a: (2, 3, 5)\n",
      "Shape of b: (5, 2, 3)\n",
      "a and b cannot be added. Reason: operands could not be broadcast together with shapes (2,3,5) (5,2,3) \n"
     ]
    }
   ],
   "source": [
    "print(\"Shape of a:\", a.shape)\n",
    "print(\"Shape of b:\", b.shape)\n",
    "\n",
    "try:\n",
    "    c = a + b\n",
    "    print(\"a and b can be added. Result shape:\", c.shape)\n",
    "except ValueError as e:\n",
    "    print(\"a and b cannot be added. Reason:\", e)"
   ]
  },
  {
   "cell_type": "code",
   "execution_count": 13,
   "id": "81147791-0f43-45d3-a002-ae8fa579df0d",
   "metadata": {},
   "outputs": [
    {
     "name": "stdout",
     "output_type": "stream",
     "text": [
      "Shape of c: (2, 3, 5)\n"
     ]
    }
   ],
   "source": [
    "c = np.transpose(b, (1, 2, 0))\n",
    "\n",
    "print(\"Shape of c:\", c.shape)"
   ]
  },
  {
   "cell_type": "code",
   "execution_count": 14,
   "id": "1fb5f121-abb0-43a5-b395-bfc281aa32e5",
   "metadata": {},
   "outputs": [
    {
     "name": "stdout",
     "output_type": "stream",
     "text": [
      "Shape of d: (2, 3, 5)\n",
      "d = [[[1.05652156 1.72038546 1.54908194 1.7835943  1.30128941]\n",
      "  [1.9288521  1.77829971 1.30037226 1.57455895 1.45591454]\n",
      "  [1.24763384 1.92230717 1.83622236 1.83064687 1.34097221]]\n",
      "\n",
      " [[1.56261733 1.84694282 1.86305442 1.90414497 1.75006972]\n",
      "  [1.13504569 1.40345086 1.30487524 1.6616755  1.56885306]\n",
      "  [1.00778184 1.40087664 1.29053672 1.70303045 1.53025395]]]\n"
     ]
    }
   ],
   "source": [
    "d = a + c\n",
    "\n",
    "print(\"Shape of d:\", d.shape)\n",
    "print(\"d =\", d)"
   ]
  },
  {
   "cell_type": "code",
   "execution_count": 15,
   "id": "ddf14e66-717a-42fa-9d7a-cfe97c766004",
   "metadata": {},
   "outputs": [
    {
     "name": "stdout",
     "output_type": "stream",
     "text": [
      "Array a:\n",
      "[[[0.05652156 0.72038546 0.54908194 0.7835943  0.30128941]\n",
      "  [0.9288521  0.77829971 0.30037226 0.57455895 0.45591454]\n",
      "  [0.24763384 0.92230717 0.83622236 0.83064687 0.34097221]]\n",
      "\n",
      " [[0.56261733 0.84694282 0.86305442 0.90414497 0.75006972]\n",
      "  [0.13504569 0.40345086 0.30487524 0.6616755  0.56885306]\n",
      "  [0.00778184 0.40087664 0.29053672 0.70303045 0.53025395]]]\n",
      "\n",
      "Array d (a + c):\n",
      "[[[1.05652156 1.72038546 1.54908194 1.7835943  1.30128941]\n",
      "  [1.9288521  1.77829971 1.30037226 1.57455895 1.45591454]\n",
      "  [1.24763384 1.92230717 1.83622236 1.83064687 1.34097221]]\n",
      "\n",
      " [[1.56261733 1.84694282 1.86305442 1.90414497 1.75006972]\n",
      "  [1.13504569 1.40345086 1.30487524 1.6616755  1.56885306]\n",
      "  [1.00778184 1.40087664 1.29053672 1.70303045 1.53025395]]]\n"
     ]
    }
   ],
   "source": [
    "print(\"Array a:\")\n",
    "print(a)\n",
    "\n",
    "print(\"\\nArray d (a + c):\")\n",
    "print(d)"
   ]
  },
  {
   "cell_type": "code",
   "execution_count": 16,
   "id": "d6700836-9d18-44ea-8857-da414ec8aa7e",
   "metadata": {},
   "outputs": [
    {
     "name": "stdout",
     "output_type": "stream",
     "text": [
      "Shape of e: (2, 3, 5)\n",
      "e = [[[0.05652156 0.72038546 0.54908194 0.7835943  0.30128941]\n",
      "  [0.9288521  0.77829971 0.30037226 0.57455895 0.45591454]\n",
      "  [0.24763384 0.92230717 0.83622236 0.83064687 0.34097221]]\n",
      "\n",
      " [[0.56261733 0.84694282 0.86305442 0.90414497 0.75006972]\n",
      "  [0.13504569 0.40345086 0.30487524 0.6616755  0.56885306]\n",
      "  [0.00778184 0.40087664 0.29053672 0.70303045 0.53025395]]]\n"
     ]
    }
   ],
   "source": [
    "e = a * c\n",
    "\n",
    "print(\"Shape of e:\", e.shape)\n",
    "print(\"e =\", e)\n"
   ]
  },
  {
   "cell_type": "code",
   "execution_count": 17,
   "id": "54f0b220-b85d-4521-a425-879949104207",
   "metadata": {},
   "outputs": [
    {
     "name": "stdout",
     "output_type": "stream",
     "text": [
      "Does e equal a? True\n"
     ]
    }
   ],
   "source": [
    "print(\"Does e equal a?\", np.array_equal(e, a))"
   ]
  },
  {
   "cell_type": "code",
   "execution_count": 18,
   "id": "4c7154ba-de07-4d70-92f4-a553ce1f344f",
   "metadata": {},
   "outputs": [
    {
     "name": "stdout",
     "output_type": "stream",
     "text": [
      "d_max = 1.9288520989287345\n",
      "d_min = 1.0077818363185924\n",
      "d_mean = 1.5519953966522906\n"
     ]
    }
   ],
   "source": [
    "d_max = np.max(d)\n",
    "\n",
    "d_min = np.min(d)\n",
    "\n",
    "d_mean = np.mean(d)\n",
    "\n",
    "print(\"d_max =\", d_max)\n",
    "print(\"d_min =\", d_min)\n",
    "print(\"d_mean =\", d_mean)"
   ]
  },
  {
   "cell_type": "code",
   "execution_count": 20,
   "id": "a56ebe8c-21c2-461c-b4ea-b2416b0ed185",
   "metadata": {},
   "outputs": [
    {
     "name": "stdout",
     "output_type": "stream",
     "text": [
      "Shape of f: (2, 3, 5)\n"
     ]
    }
   ],
   "source": [
    "f = np.empty(d.shape)\n",
    "\n",
    "print(\"Shape of f:\", f.shape)"
   ]
  },
  {
   "cell_type": "code",
   "execution_count": 21,
   "id": "0d7fde2c-c42e-4afa-b517-3088cf28e518",
   "metadata": {},
   "outputs": [
    {
     "name": "stdout",
     "output_type": "stream",
     "text": [
      "Labeled array f:\n",
      "[[[ 25.  75.  25.  75.  25.]\n",
      "  [100.  75.  25.  75.  25.]\n",
      "  [ 25.  75.  75.  75.  25.]]\n",
      "\n",
      " [[ 75.  75.  75.  75.  75.]\n",
      "  [ 25.  25.  25.  75.  75.]\n",
      "  [  0.  25.  25.  75.  25.]]]\n"
     ]
    }
   ],
   "source": [
    "shape = d.shape\n",
    "\n",
    "for i in range(shape[0]):\n",
    "    for j in range(shape[1]):\n",
    "        for k in range(shape[2]):\n",
    "            if d[i, j, k] == d_min:\n",
    "                f[i, j, k] = 0\n",
    "            elif d[i, j, k] == d_max:\n",
    "                f[i, j, k] = 100\n",
    "            elif d[i, j, k] == d_mean:\n",
    "                f[i, j, k] = 50\n",
    "            elif d_min < d[i, j, k] < d_mean:\n",
    "                f[i, j, k] = 25\n",
    "            elif d_mean < d[i, j, k] < d_max:\n",
    "                f[i, j, k] = 75\n",
    "\n",
    "print(\"Labeled array f:\")\n",
    "print(f)"
   ]
  },
  {
   "cell_type": "code",
   "execution_count": 22,
   "id": "1e0722c4-0abf-4a72-ba91-1827126161ce",
   "metadata": {},
   "outputs": [
    {
     "name": "stdout",
     "output_type": "stream",
     "text": [
      "Array d:\n",
      "[[[1.05652156 1.72038546 1.54908194 1.7835943  1.30128941]\n",
      "  [1.9288521  1.77829971 1.30037226 1.57455895 1.45591454]\n",
      "  [1.24763384 1.92230717 1.83622236 1.83064687 1.34097221]]\n",
      "\n",
      " [[1.56261733 1.84694282 1.86305442 1.90414497 1.75006972]\n",
      "  [1.13504569 1.40345086 1.30487524 1.6616755  1.56885306]\n",
      "  [1.00778184 1.40087664 1.29053672 1.70303045 1.53025395]]]\n",
      "\n",
      "Labeled array f:\n",
      "[[[ 25.  75.  25.  75.  25.]\n",
      "  [100.  75.  25.  75.  25.]\n",
      "  [ 25.  75.  75.  75.  25.]]\n",
      "\n",
      " [[ 75.  75.  75.  75.  75.]\n",
      "  [ 25.  25.  25.  75.  75.]\n",
      "  [  0.  25.  25.  75.  25.]]]\n"
     ]
    }
   ],
   "source": [
    "print(\"Array d:\")\n",
    "print(d)\n",
    "\n",
    "print(\"\\nLabeled array f:\")\n",
    "print(f)"
   ]
  },
  {
   "cell_type": "code",
   "execution_count": 23,
   "id": "6e0303f4-31ea-45d4-9453-d58429f638b9",
   "metadata": {},
   "outputs": [
    {
     "name": "stdout",
     "output_type": "stream",
     "text": [
      "Labeled array with strings:\n",
      "[[['B' 'D' 'B' 'D' 'B']\n",
      "  ['E' 'D' 'B' 'D' 'B']\n",
      "  ['B' 'D' 'D' 'D' 'B']]\n",
      "\n",
      " [['D' 'D' 'D' 'D' 'D']\n",
      "  ['B' 'B' 'B' 'D' 'D']\n",
      "  ['A' 'B' 'B' 'D' 'B']]]\n"
     ]
    }
   ],
   "source": [
    "f_str = np.empty(d.shape, dtype=object)\n",
    "\n",
    "for i in range(d.shape[0]):\n",
    "    for j in range(d.shape[1]):\n",
    "        for k in range(d.shape[2]):\n",
    "            if d[i, j, k] == d_min:\n",
    "                f_str[i, j, k] = \"A\"\n",
    "            elif d[i, j, k] == d_max:\n",
    "                f_str[i, j, k] = \"E\"\n",
    "            elif d[i, j, k] == d_mean:\n",
    "                f_str[i, j, k] = \"C\"\n",
    "            elif d_min < d[i, j, k] < d_mean:\n",
    "                f_str[i, j, k] = \"B\"\n",
    "            elif d_mean < d[i, j, k] < d_max:\n",
    "                f_str[i, j, k] = \"D\"\n",
    "\n",
    "print(\"Labeled array with strings:\")\n",
    "print(f_str)"
   ]
  },
  {
   "cell_type": "code",
   "execution_count": null,
   "id": "74d8dbd1-f399-4ffa-8ad2-0fc4fa5df8fa",
   "metadata": {},
   "outputs": [],
   "source": []
  }
 ],
 "metadata": {
  "kernelspec": {
   "display_name": "Python [conda env:base] *",
   "language": "python",
   "name": "conda-base-py"
  },
  "language_info": {
   "codemirror_mode": {
    "name": "ipython",
    "version": 3
   },
   "file_extension": ".py",
   "mimetype": "text/x-python",
   "name": "python",
   "nbconvert_exporter": "python",
   "pygments_lexer": "ipython3",
   "version": "3.13.5"
  }
 },
 "nbformat": 4,
 "nbformat_minor": 5
}
