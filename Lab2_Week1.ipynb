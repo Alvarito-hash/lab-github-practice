{
 "cells": [
  {
   "cell_type": "code",
   "execution_count": 6,
   "id": "0276beff-5160-498c-ba99-dc2a9873593f",
   "metadata": {},
   "outputs": [],
   "source": [
    "#1:Words\n",
    "\n",
    "words = ['play', 'filling', 'bar', 'theatre', 'easygoing', 'date', 'lead', 'that', 'story',  'island']"
   ]
  },
  {
   "cell_type": "code",
   "execution_count": 7,
   "id": "0b781fdb-6c10-43a9-af09-a7c3e9a66c51",
   "metadata": {},
   "outputs": [
    {
     "name": "stdout",
     "output_type": "stream",
     "text": [
      "PLAY\n",
      "FILLING\n",
      "BAR\n",
      "THEATRE\n",
      "EASYGOING\n",
      "DATE\n",
      "LEAD\n",
      "THAT\n",
      "STORY\n",
      "ISLAND\n"
     ]
    }
   ],
   "source": [
    "for word in words:\n",
    "    print(word.upper())"
   ]
  },
  {
   "cell_type": "code",
   "execution_count": 8,
   "id": "012233ad-a566-45c7-929d-85fcd4d2c9af",
   "metadata": {},
   "outputs": [
    {
     "name": "stdout",
     "output_type": "stream",
     "text": [
      "['filling', 'theatre', 'easygoing', 'story', 'island']\n"
     ]
    }
   ],
   "source": [
    "long_words = []  \n",
    "for word in words:\n",
    "    if len(word) >= 5:\n",
    "        long_words.append(word)\n",
    "\n",
    "print(long_words)"
   ]
  },
  {
   "cell_type": "code",
   "execution_count": 9,
   "id": "c81b3a61-0473-4edd-82d8-91a53e18541c",
   "metadata": {},
   "outputs": [
    {
     "name": "stdout",
     "output_type": "stream",
     "text": [
      "theatre\n"
     ]
    }
   ],
   "source": [
    "for word in words:\n",
    "    if word.startswith('t'):\n",
    "        print(word)\n",
    "        break  "
   ]
  },
  {
   "cell_type": "code",
   "execution_count": 10,
   "id": "48220f5f-7a47-4497-b479-d7a0413ab632",
   "metadata": {},
   "outputs": [
    {
     "name": "stdout",
     "output_type": "stream",
     "text": [
      "[1, 4, 9, 16, 25, 36, 49, 64, 81, 100]\n"
     ]
    }
   ],
   "source": [
    "#2:Numbers \n",
    "\n",
    "squares = []\n",
    "for i in range(1, 11):\n",
    "    squares.append(i ** 2)\n",
    "\n",
    "print(squares)"
   ]
  },
  {
   "cell_type": "code",
   "execution_count": 11,
   "id": "08862f0f-4f9b-4382-9257-7da93c401dba",
   "metadata": {},
   "outputs": [
    {
     "name": "stdout",
     "output_type": "stream",
     "text": [
      "[1, 9, 25, 49, 81]\n"
     ]
    }
   ],
   "source": [
    "odd_squares = [i ** 2 for i in range(1, 11) if i % 2 != 0]\n",
    "print(odd_squares)"
   ]
  },
  {
   "cell_type": "code",
   "execution_count": 12,
   "id": "b0554ccc-0fd7-4c19-904b-2a6149e4c9d5",
   "metadata": {},
   "outputs": [
    {
     "name": "stdout",
     "output_type": "stream",
     "text": [
      "[64, 256, 576, 1024, 1600, 2304, 3136, 4096, 5184, 6400, 7744, 9216, 10816, 12544, 14400, 16384, 18496, 20736, 23104, 25600, 28224, 30976, 33856, 36864, 40000, 43264, 46656, 50176, 53824, 57600, 61504, 65536, 69696, 73984, 78400, 82944, 87616, 92416, 97344, 102400, 107584, 112896, 118336, 123904, 129600, 135424, 141376, 147456, 153664, 160000, 166464, 173056, 179776, 186624, 193600, 200704, 207936, 215296, 222784, 230400, 238144, 246016, 254016, 262144, 270400, 278784, 287296, 295936, 304704, 313600, 322624, 331776, 341056, 350464, 360000, 369664, 379456, 389376, 399424, 409600, 419904, 430336, 440896, 451584, 462400, 473344, 484416, 495616, 506944, 518400, 529984, 541696, 553536, 565504, 577600, 589824, 602176, 614656, 627264, 640000, 652864, 665856, 678976, 692224, 705600, 719104, 732736, 746496, 760384, 774400, 788544, 802816, 817216, 831744, 846400, 861184, 876096, 891136, 906304, 921600, 937024, 952576, 968256, 984064]\n"
     ]
    }
   ],
   "source": [
    "squares_of_8 = []\n",
    "for i in range(8, 1000, 8):\n",
    "    squares_of_8.append(i ** 2)\n",
    "\n",
    "print(squares_of_8)"
   ]
  },
  {
   "cell_type": "code",
   "execution_count": 13,
   "id": "7f37a9da-2594-490a-8f6d-7207b86b7585",
   "metadata": {},
   "outputs": [
    {
     "name": "stdout",
     "output_type": "stream",
     "text": [
      "5\n"
     ]
    }
   ],
   "source": [
    "#3:People \n",
    "\n",
    "people = [\n",
    "    {\"name\": \"Juan\", \"age\": 34, \"n_kids\": 2},\n",
    "    {\"name\": \"Pepe\", \"age\": 27, \"n_kids\": 0},\n",
    "    {\"name\": \"Sonia\", \"age\": 41, \"n_kids\": 1},\n",
    "    {\"name\": \"Lucía\", \"age\": 22, \"n_kids\": 2},\n",
    "    {\"name\": \"Leo\", \"age\": 55, \"n_kids\": 5}\n",
    "]\n",
    "\n",
    "print(len(people))"
   ]
  },
  {
   "cell_type": "code",
   "execution_count": 15,
   "id": "b4c63531-9dac-4d0f-b60b-b4b2150653f9",
   "metadata": {},
   "outputs": [
    {
     "name": "stdout",
     "output_type": "stream",
     "text": [
      "4\n"
     ]
    }
   ],
   "source": [
    "people = [\n",
    "    {\"name\": \"Juan\", \"age\": 34, \"n_kids\": 2},\n",
    "    {\"name\": \"Pepe\", \"age\": 27, \"n_kids\": 0},\n",
    "    {\"name\": \"Sonia\", \"age\": 41, \"n_kids\": 1},\n",
    "    {\"name\": \"Lucía\", \"age\": 22, \"n_kids\": 2},\n",
    "    {\"name\": \"Leo\", \"age\": 55, \"n_kids\": 5}\n",
    "]\n",
    "\n",
    "count_with_kids = 0\n",
    "for person in people:\n",
    "    if person[\"n_kids\"] > 0:\n",
    "        count_with_kids += 1\n",
    "print(count_with_kids)"
   ]
  },
  {
   "cell_type": "code",
   "execution_count": null,
   "id": "b7fa7b9a-db6b-4c3d-b947-634db6b2893a",
   "metadata": {},
   "outputs": [],
   "source": []
  }
 ],
 "metadata": {
  "kernelspec": {
   "display_name": "Python 3 (ipykernel)",
   "language": "python",
   "name": "python3"
  },
  "language_info": {
   "codemirror_mode": {
    "name": "ipython",
    "version": 3
   },
   "file_extension": ".py",
   "mimetype": "text/x-python",
   "name": "python",
   "nbconvert_exporter": "python",
   "pygments_lexer": "ipython3",
   "version": "3.13.5"
  }
 },
 "nbformat": 4,
 "nbformat_minor": 5
}
